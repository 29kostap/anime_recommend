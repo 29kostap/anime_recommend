{
 "cells": [
  {
   "cell_type": "markdown",
   "id": "39ffb41a-cb55-498f-9d91-0342fdef875c",
   "metadata": {},
   "source": [
    "# TODO\n",
    "- TF/IDF\n",
    "- get ratings\n",
    "- partial tags match (female harem matches harem)\n",
    "- get more data\n",
    "- iteractive fine tuning of the search (showing candiate tags)\n",
    "- store and remember (profile, liked animes in the past)\n",
    "- scrape 'sources' -> ratings\n",
    "- ai turn (scraped) summary to tags\n",
    "- age\n",
    "- additional criteria (episodes, seasons, etc)"
   ]
  },
  {
   "cell_type": "code",
   "execution_count": 61,
   "id": "0b48f4c1-e5aa-4ca8-9eec-6a081b952d5c",
   "metadata": {},
   "outputs": [],
   "source": [
    "import pandas as pd \n",
    "import json"
   ]
  },
  {
   "cell_type": "code",
   "execution_count": 62,
   "id": "59f86913-9160-4f16-9a87-1f8ed334681d",
   "metadata": {},
   "outputs": [],
   "source": [
    "with open(\"./anime-offline-database.json\", \"r\") as file:\n",
    "    jsondata = json.load(file)"
   ]
  },
  {
   "cell_type": "code",
   "execution_count": 63,
   "id": "34976ed3-a2dc-4a4b-9fe1-f27277a91936",
   "metadata": {},
   "outputs": [],
   "source": [
    "items = jsondata['data']"
   ]
  },
  {
   "cell_type": "code",
   "execution_count": 64,
   "id": "3141281f-bb3c-40a5-8c16-433e8f9e3055",
   "metadata": {},
   "outputs": [
    {
     "name": "stdout",
     "output_type": "stream",
     "text": [
      "{'sources': ['https://anidb.net/anime/69', 'https://anilist.co/anime/21', 'https://anime-planet.com/anime/one-piece', 'https://anisearch.com/anime/2227', 'https://kitsu.app/anime/12', 'https://livechart.me/anime/321', 'https://myanimelist.net/anime/21', 'https://notify.moe/anime/jdZp5KmiR'], 'title': 'One Piece', 'type': 'TV', 'episodes': 1122, 'status': 'ONGOING', 'animeSeason': {'season': 'FALL', 'year': 1999}, 'picture': 'https://cdn.myanimelist.net/images/anime/1244/138851.jpg', 'thumbnail': 'https://cdn.myanimelist.net/images/anime/1244/138851t.jpg', 'duration': {'value': 1440, 'unit': 'SECONDS'}, 'synonyms': ['1P', \"All'arrembaggio!\", 'All`arrembaggio!', 'Budak Getah', 'Lastik Çocuk', 'ONE PIECE', 'OP', 'OP TV', 'One Piece TV', 'OneP', 'Tek parça', \"Tutti all'arrembaggio!\", 'Vua Hải Tặc', 'optv', 'Đảo hải tặc', 'Ντρέηκ, το Κυνήγι του Θησαυρού', 'Ντρέικ και το Κυνήγι του Θησαυρού', 'Большой куш', 'Ван-Пис', 'Великий куш', 'Едно Цяло', 'Одним куском', 'Уан Пийс', 'וואן פיס', 'وان پیس', 'ون بيس', 'ওয়ান পিস্', 'วันพีซ', 'ワンピース', '海賊王', '海贼', '海贼王', '원피스'], 'relatedAnime': ['https://anidb.net/anime/11448', 'https://anidb.net/anime/11529', 'https://anidb.net/anime/1253', 'https://anidb.net/anime/1254', 'https://anidb.net/anime/14318', 'https://anidb.net/anime/14737', 'https://anidb.net/anime/16983', 'https://anidb.net/anime/18131', 'https://anidb.net/anime/18325', 'https://anidb.net/anime/2036', 'https://anidb.net/anime/2644', 'https://anidb.net/anime/2736', 'https://anidb.net/anime/4097', 'https://anidb.net/anime/411', 'https://anidb.net/anime/4851', 'https://anidb.net/anime/5691', 'https://anidb.net/anime/6199', 'https://anidb.net/anime/6537', 'https://anidb.net/anime/7538', 'https://anidb.net/anime/8010', 'https://anidb.net/anime/8762', 'https://anidb.net/anime/893', 'https://anidb.net/anime/8940', 'https://anilist.co/anime/10033', 'https://anilist.co/anime/101099', 'https://anilist.co/anime/101918', 'https://anilist.co/anime/102639', 'https://anilist.co/anime/105143', 'https://anilist.co/anime/106492', 'https://anilist.co/anime/106572', 'https://anilist.co/anime/107110', 'https://anilist.co/anime/107256', 'https://anilist.co/anime/1094', 'https://anilist.co/anime/113308', 'https://anilist.co/anime/114761', 'https://anilist.co/anime/12001', 'https://anilist.co/anime/1237', 'https://anilist.co/anime/1238', 'https://anilist.co/anime/126649', 'https://anilist.co/anime/12859', 'https://anilist.co/anime/141902', 'https://anilist.co/anime/143293', 'https://anilist.co/anime/15323', 'https://anilist.co/anime/16239', 'https://anilist.co/anime/16468', 'https://anilist.co/anime/167404', 'https://anilist.co/anime/171630', 'https://anilist.co/anime/177475', 'https://anilist.co/anime/182469', 'https://anilist.co/anime/183423', 'https://anilist.co/anime/19123', 'https://anilist.co/anime/2020', 'https://anilist.co/anime/20835', 'https://anilist.co/anime/2107', 'https://anilist.co/anime/21230', 'https://anilist.co/anime/21335', 'https://anilist.co/anime/21485', 'https://anilist.co/anime/21831', 'https://anilist.co/anime/21880', 'https://anilist.co/anime/2385', 'https://anilist.co/anime/2386', 'https://anilist.co/anime/2490', 'https://anilist.co/anime/3848', 'https://anilist.co/anime/4155', 'https://anilist.co/anime/459', 'https://anilist.co/anime/460', 'https://anilist.co/anime/461', 'https://anilist.co/anime/462', 'https://anilist.co/anime/463', 'https://anilist.co/anime/464', 'https://anilist.co/anime/465', 'https://anilist.co/anime/466', 'https://anilist.co/anime/5252', 'https://anilist.co/anime/813', 'https://anilist.co/anime/8740', 'https://anilist.co/anime/99302', 'https://anilist.co/anime/9999', 'https://anime-planet.com/anime/arashi-a-ra-shi-reborn', 'https://anime-planet.com/anime/dream-9-toriko-x-one-piece-x-dragon-ball-z-super-collabo-special', 'https://anime-planet.com/anime/fanta-x-one-piece', 'https://anime-planet.com/anime/hungry-days-x-bump-of-chicken-kinen-satsuei', 'https://anime-planet.com/anime/hungry-days-x-one-piece', 'https://anime-planet.com/anime/kyuutai-panic-adventure', 'https://anime-planet.com/anime/look-plus-x-one-piece-cm', 'https://anime-planet.com/anime/mcdonalds-x-one-piece-cms', 'https://anime-planet.com/anime/one-piece-3d-gekisou-trap-coaster', 'https://anime-planet.com/anime/one-piece-3d-mugiwara-chase', 'https://anime-planet.com/anime/one-piece-3d2y-overcoming-aces-death-luffys-pledge-to-his-friends', 'https://anime-planet.com/anime/one-piece-5-fun-de-wakaru-kore-made-no-wano-kuni-hen', 'https://anime-planet.com/anime/one-piece-a-comprehensive-anatomy-fierce-fight-the-five-from-the-new-generation', 'https://anime-planet.com/anime/one-piece-a-comprehensive-anatomy-the-legend-of-kozuki-oden', 'https://anime-planet.com/anime/one-piece-a-project-to-fully-enjoy-surgeon-of-death-trafalgar-law', 'https://anime-planet.com/anime/one-piece-a-very-special-feature-momonosukes-road-to-becoming-a-great-shogun', 'https://anime-planet.com/anime/one-piece-adventure-of-nebulandia', 'https://anime-planet.com/anime/one-piece-annecy-festival-60th-anniversary', 'https://anime-planet.com/anime/one-piece-cry-heart', 'https://anime-planet.com/anime/one-piece-defeat-the-pirate-ganzak', 'https://anime-planet.com/anime/one-piece-djanjos-dance-carnival', 'https://anime-planet.com/anime/one-piece-dream-soccer-king', 'https://anime-planet.com/anime/one-piece-episode-of-east-blue', 'https://anime-planet.com/anime/one-piece-episode-of-luffy-hand-island-no-bouken', 'https://anime-planet.com/anime/one-piece-episode-of-merry-mou-hitori-no-nakama-no-monogatari', 'https://anime-planet.com/anime/one-piece-episode-of-nami-koukaishi-no-namida-to-nakama-no-kizuna', 'https://anime-planet.com/anime/one-piece-episode-of-sabo', 'https://anime-planet.com/anime/one-piece-episode-of-skypiea', 'https://anime-planet.com/anime/one-piece-fan-letter', 'https://anime-planet.com/anime/one-piece-film-gold', 'https://anime-planet.com/anime/one-piece-film-red', 'https://anime-planet.com/anime/one-piece-film-z', 'https://anime-planet.com/anime/one-piece-fns-27-hour-tv', 'https://anime-planet.com/anime/one-piece-kinkyuu-kikaku-one-piece-kanzen-kouryakuhou', 'https://anime-planet.com/anime/one-piece-log-fish-man-island-saga', 'https://anime-planet.com/anime/one-piece-long-ring-long-land-hen', 'https://anime-planet.com/anime/one-piece-making-history-the-turbulent-old-and-new-four-emperors', 'https://anime-planet.com/anime/one-piece-movie-1', 'https://anime-planet.com/anime/one-piece-movie-10-strong-world', 'https://anime-planet.com/anime/one-piece-movie-14-stampede', 'https://anime-planet.com/anime/one-piece-movie-2-clockwork-island-adventure', 'https://anime-planet.com/anime/one-piece-movie-3-chopper-kingdom-of-strange-animal-island', 'https://anime-planet.com/anime/one-piece-movie-4-dead-end-adventure', 'https://anime-planet.com/anime/one-piece-movie-5-the-curse-of-the-sacred-sword', 'https://anime-planet.com/anime/one-piece-movie-6-baron-omatsuri-and-the-secret-island', 'https://anime-planet.com/anime/one-piece-movie-7-karakuri-castles-mecha-giant-soldier', 'https://anime-planet.com/anime/one-piece-movie-9-episode-of-chopper-the-miracle-winter-cherry-blossom', 'https://anime-planet.com/anime/one-piece-mugiwara-no-ichimi-kara-no-kansen-yobou-message', 'https://anime-planet.com/anime/one-piece-open-upon-the-great-sea-a-fathers-huge-huge-dream', 'https://anime-planet.com/anime/one-piece-otoshidama-special-tokubetsu-hou-mugiwara-kaizoku-dan-no-himitsu', 'https://anime-planet.com/anime/one-piece-recap', 'https://anime-planet.com/anime/one-piece-recapping-fierce-fights-the-countercharge-alliance-vs-big-mom', 'https://anime-planet.com/anime/one-piece-recapping-fierce-fights-zoro-vs-a-lead-performer', 'https://anime-planet.com/anime/one-piece-romance-dawn', 'https://anime-planet.com/anime/one-piece-romance-dawn-story', 'https://anime-planet.com/anime/one-piece-special-adventure-in-the-oceans-naval', 'https://anime-planet.com/anime/one-piece-special-episode-bartos-secret-room', 'https://anime-planet.com/anime/one-piece-special-heart-of-gold', 'https://anime-planet.com/anime/one-piece-special-protect-the-last-great-stage', 'https://anime-planet.com/anime/one-piece-straw-hat-theater', 'https://anime-planet.com/anime/one-piece-take-aim-the-pirate-baseball-king', 'https://anime-planet.com/anime/one-piece-the-captains-log-of-the-legend-red-haired-shanks', 'https://anime-planet.com/anime/one-piece-the-desert-princess-and-the-pirates-adventures-in-alabasta', 'https://anime-planet.com/anime/one-piece-the-desert-princess-and-the-pirates-adventures-in-alabasta-prologue', 'https://anime-planet.com/anime/one-piece-the-detective-memoirs-of-chief-straw-hat-luffy', 'https://anime-planet.com/anime/one-piece-the-log-of-the-rivalry-the-straw-hats-vs-cipher-pol', 'https://anime-planet.com/anime/one-piece-the-log-of-the-turbulent-revolution-the-revolutionary-army-maneuvers-in-secret', 'https://anime-planet.com/anime/one-piece-the-planetarium', 'https://anime-planet.com/anime/one-piece-uchuutte-omoshiree-hoshizora-jima-hen', 'https://anime-planet.com/anime/one-piece-unwavering-justice-the-navys-proud-log', 'https://anime-planet.com/anime/one-piece-x-kawaisouni-kono-boushi-wo-omae-ni-azukeru', 'https://anime-planet.com/anime/sante-fx-x-one-piece', 'https://anime-planet.com/anime/the-one-piece', 'https://anime-planet.com/anime/tokyo-one-piece-tower-one-piece-4d', 'https://anime-planet.com/anime/tokyo-one-piece-tower-tongari-shima-no-dai-hihou', 'https://anime-planet.com/anime/toriko-x-one-piece-collabo-special', 'https://anime-planet.com/anime/toriko-x-one-piece-collabo-special-2', 'https://anisearch.com/anime/10689', 'https://anisearch.com/anime/10931', 'https://anisearch.com/anime/10975', 'https://anisearch.com/anime/11009', 'https://anisearch.com/anime/11102', 'https://anisearch.com/anime/11145', 'https://anisearch.com/anime/12168', 'https://anisearch.com/anime/12595', 'https://anisearch.com/anime/13630', 'https://anisearch.com/anime/1369', 'https://anisearch.com/anime/13833', 'https://anisearch.com/anime/14420', 'https://anisearch.com/anime/14571', 'https://anisearch.com/anime/14746', 'https://anisearch.com/anime/14982', 'https://anisearch.com/anime/15149', 'https://anisearch.com/anime/15205', 'https://anisearch.com/anime/15379', 'https://anisearch.com/anime/15494', 'https://anisearch.com/anime/15495', 'https://anisearch.com/anime/15516', 'https://anisearch.com/anime/16819', 'https://anisearch.com/anime/17199', 'https://anisearch.com/anime/17460', 'https://anisearch.com/anime/17650', 'https://anisearch.com/anime/18101', 'https://anisearch.com/anime/1815', 'https://anisearch.com/anime/1854', 'https://anisearch.com/anime/18567', 'https://anisearch.com/anime/18589', 'https://anisearch.com/anime/18613', 'https://anisearch.com/anime/18615', 'https://anisearch.com/anime/18623', 'https://anisearch.com/anime/18939', 'https://anisearch.com/anime/18942', 'https://anisearch.com/anime/19059', 'https://anisearch.com/anime/19229', 'https://anisearch.com/anime/19271', 'https://anisearch.com/anime/19430', 'https://anisearch.com/anime/19696', 'https://anisearch.com/anime/19699', 'https://anisearch.com/anime/19723', 'https://anisearch.com/anime/19724', 'https://anisearch.com/anime/2376', 'https://anisearch.com/anime/2553', 'https://anisearch.com/anime/302', 'https://anisearch.com/anime/3260', 'https://anisearch.com/anime/3359', 'https://anisearch.com/anime/3804', 'https://anisearch.com/anime/3823', 'https://anisearch.com/anime/3836', 'https://anisearch.com/anime/3941', 'https://anisearch.com/anime/3965', 'https://anisearch.com/anime/4158', 'https://anisearch.com/anime/4495', 'https://anisearch.com/anime/5131', 'https://anisearch.com/anime/5400', 'https://anisearch.com/anime/6545', 'https://anisearch.com/anime/6995', 'https://anisearch.com/anime/7388', 'https://anisearch.com/anime/7573', 'https://anisearch.com/anime/7778', 'https://anisearch.com/anime/8028', 'https://anisearch.com/anime/8279', 'https://anisearch.com/anime/8592', 'https://anisearch.com/anime/8884', 'https://anisearch.com/anime/9785', 'https://anisearch.com/anime/9793', 'https://kitsu.app/anime/3300', 'https://kitsu.app/anime/421', 'https://kitsu.app/anime/422', 'https://kitsu.app/anime/423', 'https://kitsu.app/anime/424', 'https://kitsu.app/anime/425', 'https://kitsu.app/anime/426', 'https://kitsu.app/anime/427', 'https://kitsu.app/anime/46584', 'https://kitsu.app/anime/49259', 'https://livechart.me/anime/4028', 'https://livechart.me/anime/4104', 'https://livechart.me/anime/4166', 'https://livechart.me/anime/4187', 'https://livechart.me/anime/4199', 'https://livechart.me/anime/4208', 'https://livechart.me/anime/4720', 'https://livechart.me/anime/4723', 'https://livechart.me/anime/4817', 'https://livechart.me/anime/4824', 'https://livechart.me/anime/4938', 'https://livechart.me/anime/5000', 'https://livechart.me/anime/5174', 'https://livechart.me/anime/5208', 'https://livechart.me/anime/6598', 'https://myanimelist.net/anime/10033', 'https://myanimelist.net/anime/1094', 'https://myanimelist.net/anime/12001', 'https://myanimelist.net/anime/1237', 'https://myanimelist.net/anime/1238', 'https://myanimelist.net/anime/12859', 'https://myanimelist.net/anime/15323', 'https://myanimelist.net/anime/16143', 'https://myanimelist.net/anime/16239', 'https://myanimelist.net/anime/16468', 'https://myanimelist.net/anime/19123', 'https://myanimelist.net/anime/2020', 'https://myanimelist.net/anime/2107', 'https://myanimelist.net/anime/22661', 'https://myanimelist.net/anime/2385', 'https://myanimelist.net/anime/2386', 'https://myanimelist.net/anime/23933', 'https://myanimelist.net/anime/23935', 'https://myanimelist.net/anime/2490', 'https://myanimelist.net/anime/25161', 'https://myanimelist.net/anime/28683', 'https://myanimelist.net/anime/31289', 'https://myanimelist.net/anime/31490', 'https://myanimelist.net/anime/32051', 'https://myanimelist.net/anime/32437', 'https://myanimelist.net/anime/33338', 'https://myanimelist.net/anime/33606', 'https://myanimelist.net/anime/34165', 'https://myanimelist.net/anime/36215', 'https://myanimelist.net/anime/36239', 'https://myanimelist.net/anime/37902', 'https://myanimelist.net/anime/38234', 'https://myanimelist.net/anime/38419', 'https://myanimelist.net/anime/3848', 'https://myanimelist.net/anime/40181', 'https://myanimelist.net/anime/40970', 'https://myanimelist.net/anime/4155', 'https://myanimelist.net/anime/459', 'https://myanimelist.net/anime/460', 'https://myanimelist.net/anime/461', 'https://myanimelist.net/anime/462', 'https://myanimelist.net/anime/463', 'https://myanimelist.net/anime/464', 'https://myanimelist.net/anime/465', 'https://myanimelist.net/anime/466', 'https://myanimelist.net/anime/50385', 'https://myanimelist.net/anime/50410', 'https://myanimelist.net/anime/50696', 'https://myanimelist.net/anime/51162', 'https://myanimelist.net/anime/51163', 'https://myanimelist.net/anime/52139', 'https://myanimelist.net/anime/52199', 'https://myanimelist.net/anime/5252', 'https://myanimelist.net/anime/52921', 'https://myanimelist.net/anime/53235', 'https://myanimelist.net/anime/53878', 'https://myanimelist.net/anime/53880', 'https://myanimelist.net/anime/53890', 'https://myanimelist.net/anime/55289', 'https://myanimelist.net/anime/55647', 'https://myanimelist.net/anime/56015', 'https://myanimelist.net/anime/56055', 'https://myanimelist.net/anime/57413', 'https://myanimelist.net/anime/57556', 'https://myanimelist.net/anime/57557', 'https://myanimelist.net/anime/58015', 'https://myanimelist.net/anime/58307', 'https://myanimelist.net/anime/58663', 'https://myanimelist.net/anime/59029', 'https://myanimelist.net/anime/59596', 'https://myanimelist.net/anime/59801', 'https://myanimelist.net/anime/59822', 'https://myanimelist.net/anime/59832', 'https://myanimelist.net/anime/59908', 'https://myanimelist.net/anime/59959', 'https://myanimelist.net/anime/60022', 'https://myanimelist.net/anime/60108', 'https://myanimelist.net/anime/813', 'https://myanimelist.net/anime/8171', 'https://myanimelist.net/anime/8740', 'https://myanimelist.net/anime/9999', 'https://notify.moe/anime/4IRM2FimR', 'https://notify.moe/anime/54etpKmmg', 'https://notify.moe/anime/5NemtKimg', 'https://notify.moe/anime/5aIo5Fimg', 'https://notify.moe/anime/8psKpFmiR', 'https://notify.moe/anime/992xcFiig', 'https://notify.moe/anime/Azox5KmiR', 'https://notify.moe/anime/BGfE5KiiR', 'https://notify.moe/anime/BnSo5FmmR', 'https://notify.moe/anime/FxYscFmiR', 'https://notify.moe/anime/Gnce64GHg', 'https://notify.moe/anime/GoIo5FmiR', 'https://notify.moe/anime/IOxKpKiiR', 'https://notify.moe/anime/Jx3zpFimg', 'https://notify.moe/anime/Jy0KtFimR', 'https://notify.moe/anime/LmqP5FmiR', 'https://notify.moe/anime/NwhrnIpnR', 'https://notify.moe/anime/OM_dpFiiR', 'https://notify.moe/anime/OrM7tFimR', 'https://notify.moe/anime/PZWHtFmmR', 'https://notify.moe/anime/PlOXcKmiR', 'https://notify.moe/anime/ShP_5KmmR', 'https://notify.moe/anime/VgBEcFmmg', 'https://notify.moe/anime/XUIT5Kmmg', 'https://notify.moe/anime/ZkaCtFiiR', 'https://notify.moe/anime/_eVo5Kmmg', 'https://notify.moe/anime/al5Y5FmiR', 'https://notify.moe/anime/bu4TcFmiR', 'https://notify.moe/anime/cTArpKmmR', 'https://notify.moe/anime/lF8LcFiiR', 'https://notify.moe/anime/lyEJpFiig', 'https://notify.moe/anime/nNXJ5FimR', 'https://notify.moe/anime/qcx42Kiig', 'https://notify.moe/anime/qlFiQqDSR', 'https://notify.moe/anime/toGjcKiig', 'https://notify.moe/anime/vCITcKiig', 'https://notify.moe/anime/vOSocFmmg', 'https://notify.moe/anime/vSSrtKiig', 'https://notify.moe/anime/yqCHpFimg'], 'tags': ['absurdist humour', 'acting', 'action', 'adoption', 'adventure', 'alternative world', 'anachronism', 'angels', 'animals', 'anthropomorphism', 'anti-hero', 'aromantic', 'artificial intelligence', 'asexual', 'assassins', 'based on a manga', 'battle royale', 'beastman', 'bionic powers', 'body swapping', 'cgi', 'clone', 'comedy', 'coming of age', 'conspiracy', 'crime', 'cyborg', 'demon', 'desert', 'dragons', 'drama', 'drugs', 'dystopian', 'ensemble cast', 'espionage', 'explicit violence', 'fairy', 'fantasy', 'fantasy world', 'female protagonist', 'fighting-shounen', 'food', 'food preparation', 'found family', 'fugitive', 'ganbatte', 'gender bending', 'gods', 'gunfights', 'guns', 'henshin', 'hero of strong character', 'kuudere', 'lost civilization', 'magic', 'male protagonist', 'manga', 'marriage', 'martial arts', 'mature themes', 'medicine', 'mermaid', 'monster', 'monster boy', 'monster girl', 'musical theater', 'ninja', 'past', 'philosophy', 'pirate', 'pirates', 'plot continuity', 'politics', 'post-apocalyptic', 'primarily adult cast', 'prison', 'revenge', 'robots', 'samurai', 'self-harm', 'shapeshifting', 'ships', 'shounen', 'skeleton', 'slapstick', 'slavery', 'stereotypes', 'super power', 'superpowers', 'swordplay', 'swords & co', 'time manipulation', 'time skip', 'tragedy', 'trains', 'travel', 'unrequited love', 'war', 'zombie']}\n"
     ]
    }
   ],
   "source": [
    "for item in items:\n",
    "    if \"One Piece\" != item['title']:\n",
    "        continue\n",
    "        \n",
    "    print(item)\n"
   ]
  },
  {
   "cell_type": "code",
   "execution_count": 65,
   "id": "c69a61c4-c2e4-4d9e-8bdf-481ded127b11",
   "metadata": {},
   "outputs": [],
   "source": [
    "rows = []\n",
    "for item in items:\n",
    "    tup = (\n",
    "    item['title'],\n",
    "    item['type'],\n",
    "    item['tags'],\n",
    "    item['episodes']\n",
    "        )\n",
    "    rows.append(tup)"
   ]
  },
  {
   "cell_type": "code",
   "execution_count": 66,
   "id": "e5dfe0fa-af28-494c-9321-167dd0e9fb43",
   "metadata": {},
   "outputs": [
    {
     "name": "stdout",
     "output_type": "stream",
     "text": [
      "34955\n"
     ]
    }
   ],
   "source": [
    "print(len(rows))"
   ]
  },
  {
   "cell_type": "code",
   "execution_count": 67,
   "id": "90074c9d-eccb-4d6f-bb61-754e5b43e90b",
   "metadata": {},
   "outputs": [],
   "source": [
    "df = pd.DataFrame(rows, columns=[\"title\", \"type\", \"tags\", \"episodes\"])"
   ]
  },
  {
   "cell_type": "code",
   "execution_count": 68,
   "id": "3197c11d-4dc3-43be-97e5-4a570e6cec3e",
   "metadata": {},
   "outputs": [
    {
     "data": {
      "text/html": [
       "<div>\n",
       "<style scoped>\n",
       "    .dataframe tbody tr th:only-of-type {\n",
       "        vertical-align: middle;\n",
       "    }\n",
       "\n",
       "    .dataframe tbody tr th {\n",
       "        vertical-align: top;\n",
       "    }\n",
       "\n",
       "    .dataframe thead th {\n",
       "        text-align: right;\n",
       "    }\n",
       "</style>\n",
       "<table border=\"1\" class=\"dataframe\">\n",
       "  <thead>\n",
       "    <tr style=\"text-align: right;\">\n",
       "      <th></th>\n",
       "      <th>title</th>\n",
       "      <th>type</th>\n",
       "      <th>tags</th>\n",
       "      <th>episodes</th>\n",
       "    </tr>\n",
       "  </thead>\n",
       "  <tbody>\n",
       "    <tr>\n",
       "      <th>0</th>\n",
       "      <td>!NVADE SHOW!</td>\n",
       "      <td>SPECIAL</td>\n",
       "      <td>[band, full cgi, music, primarily female cast,...</td>\n",
       "      <td>1</td>\n",
       "    </tr>\n",
       "    <tr>\n",
       "      <th>1</th>\n",
       "      <td>\"0\"</td>\n",
       "      <td>SPECIAL</td>\n",
       "      <td>[drama, female protagonist, indefinite, music,...</td>\n",
       "      <td>1</td>\n",
       "    </tr>\n",
       "    <tr>\n",
       "      <th>2</th>\n",
       "      <td>\"Aesop\" no Ohanashi yori: Ushi to Kaeru, Yokub...</td>\n",
       "      <td>MOVIE</td>\n",
       "      <td>[family friendly, fantasy, frogs, kids]</td>\n",
       "      <td>1</td>\n",
       "    </tr>\n",
       "    <tr>\n",
       "      <th>3</th>\n",
       "      <td>\"Ai\" wo Taberu</td>\n",
       "      <td>MOVIE</td>\n",
       "      <td>[drama]</td>\n",
       "      <td>1</td>\n",
       "    </tr>\n",
       "    <tr>\n",
       "      <th>4</th>\n",
       "      <td>\"Bungaku Shoujo\" Kyou no Oyatsu: Hatsukoi</td>\n",
       "      <td>OVA</td>\n",
       "      <td>[asia, based on a light novel, comedy, drama, ...</td>\n",
       "      <td>1</td>\n",
       "    </tr>\n",
       "    <tr>\n",
       "      <th>...</th>\n",
       "      <td>...</td>\n",
       "      <td>...</td>\n",
       "      <td>...</td>\n",
       "      <td>...</td>\n",
       "    </tr>\n",
       "    <tr>\n",
       "      <th>34950</th>\n",
       "      <td>▲MEW▲△MEW△CAKE</td>\n",
       "      <td>SPECIAL</td>\n",
       "      <td>[]</td>\n",
       "      <td>1</td>\n",
       "    </tr>\n",
       "    <tr>\n",
       "      <th>34951</th>\n",
       "      <td>◯</td>\n",
       "      <td>ONA</td>\n",
       "      <td>[abstract, angst, avant garde, black and white...</td>\n",
       "      <td>1</td>\n",
       "    </tr>\n",
       "    <tr>\n",
       "      <th>34952</th>\n",
       "      <td>「S.K.T(Swallow Knights Tales)」 Weptun Teureill...</td>\n",
       "      <td>SPECIAL</td>\n",
       "      <td>[action, comedy, fantasy]</td>\n",
       "      <td>1</td>\n",
       "    </tr>\n",
       "    <tr>\n",
       "      <th>34953</th>\n",
       "      <td>空の境界</td>\n",
       "      <td>TV</td>\n",
       "      <td>[action, mystery, romance, supernatural, suspe...</td>\n",
       "      <td>13</td>\n",
       "    </tr>\n",
       "    <tr>\n",
       "      <th>34954</th>\n",
       "      <td>맛 (Hot Sauce) (MINIMONSTER Remix)</td>\n",
       "      <td>SPECIAL</td>\n",
       "      <td>[music]</td>\n",
       "      <td>1</td>\n",
       "    </tr>\n",
       "  </tbody>\n",
       "</table>\n",
       "<p>34955 rows × 4 columns</p>\n",
       "</div>"
      ],
      "text/plain": [
       "                                                   title     type  \\\n",
       "0                                           !NVADE SHOW!  SPECIAL   \n",
       "1                                                    \"0\"  SPECIAL   \n",
       "2      \"Aesop\" no Ohanashi yori: Ushi to Kaeru, Yokub...    MOVIE   \n",
       "3                                         \"Ai\" wo Taberu    MOVIE   \n",
       "4              \"Bungaku Shoujo\" Kyou no Oyatsu: Hatsukoi      OVA   \n",
       "...                                                  ...      ...   \n",
       "34950                                     ▲MEW▲△MEW△CAKE  SPECIAL   \n",
       "34951                                                  ◯      ONA   \n",
       "34952  「S.K.T(Swallow Knights Tales)」 Weptun Teureill...  SPECIAL   \n",
       "34953                                               空の境界       TV   \n",
       "34954                  맛 (Hot Sauce) (MINIMONSTER Remix)  SPECIAL   \n",
       "\n",
       "                                                    tags  episodes  \n",
       "0      [band, full cgi, music, primarily female cast,...         1  \n",
       "1      [drama, female protagonist, indefinite, music,...         1  \n",
       "2                [family friendly, fantasy, frogs, kids]         1  \n",
       "3                                                [drama]         1  \n",
       "4      [asia, based on a light novel, comedy, drama, ...         1  \n",
       "...                                                  ...       ...  \n",
       "34950                                                 []         1  \n",
       "34951  [abstract, angst, avant garde, black and white...         1  \n",
       "34952                          [action, comedy, fantasy]         1  \n",
       "34953  [action, mystery, romance, supernatural, suspe...        13  \n",
       "34954                                            [music]         1  \n",
       "\n",
       "[34955 rows x 4 columns]"
      ]
     },
     "execution_count": 68,
     "metadata": {},
     "output_type": "execute_result"
    }
   ],
   "source": [
    "df"
   ]
  },
  {
   "cell_type": "code",
   "execution_count": 69,
   "id": "86465ced-961f-415d-813f-30af2037602c",
   "metadata": {},
   "outputs": [
    {
     "name": "stdout",
     "output_type": "stream",
     "text": [
      "tv shows 8880\n",
      "rows with tags 8818\n",
      "tags 1147\n"
     ]
    }
   ],
   "source": [
    "has_tags = 0\n",
    "tv_shows = 0\n",
    "all_tags = []\n",
    "for idx, row in df.iterrows():\n",
    "    if row['type'] != \"TV\":\n",
    "        continue\n",
    "    tv_shows += 1\n",
    "    tags = row['tags']\n",
    "    if len(tags) > 0:\n",
    "        has_tags += 1\n",
    "\n",
    "        for tag in tags:\n",
    "            if not tag in all_tags:\n",
    "                all_tags.append(tag)\n",
    "        \n",
    "print(\"tv shows\", tv_shows)\n",
    "print(\"rows with tags\", has_tags)\n",
    "print(\"tags\", len(all_tags))"
   ]
  },
  {
   "cell_type": "code",
   "execution_count": 70,
   "id": "5417a43f-82d0-4206-9219-85729018b47d",
   "metadata": {},
   "outputs": [
    {
     "name": "stdout",
     "output_type": "stream",
     "text": [
      "['acting', 'age regression', 'anti-hero', 'award winning', 'based on a manga', 'bowling', 'bullying', 'coming of age', 'daily life', 'dancing', 'denpa', 'detective', 'drama', 'ensemble cast', 'fake relationship', 'family life', 'female harem', 'female protagonist', 'filmmaking', 'genius']\n"
     ]
    }
   ],
   "source": [
    "print(all_tags[:20])"
   ]
  },
  {
   "cell_type": "raw",
   "id": "0444e82c-ab61-4de3-9991-72e29ea605f6",
   "metadata": {},
   "source": [
    "df.groupby(\"type\").count()"
   ]
  },
  {
   "cell_type": "code",
   "execution_count": 71,
   "id": "834246ea-caa3-4973-8f9a-a77ab8866884",
   "metadata": {},
   "outputs": [
    {
     "data": {
      "text/plain": [
       "np.float64(13.0160205979116)"
      ]
     },
     "execution_count": 71,
     "metadata": {},
     "output_type": "execute_result"
    }
   ],
   "source": [
    "df['episodes'].mean()"
   ]
  },
  {
   "cell_type": "code",
   "execution_count": 72,
   "id": "79c78bed-b384-4d57-9330-ce0958e3c2af",
   "metadata": {},
   "outputs": [
    {
     "data": {
      "text/plain": [
       "np.int64(3057)"
      ]
     },
     "execution_count": 72,
     "metadata": {},
     "output_type": "execute_result"
    }
   ],
   "source": [
    "df['episodes'].max()"
   ]
  },
  {
   "cell_type": "markdown",
   "id": "29619dc7-7b5c-48ce-94fe-23a7524e4a72",
   "metadata": {},
   "source": [
    "# find common tags"
   ]
  },
  {
   "cell_type": "code",
   "execution_count": 73,
   "id": "ba105689-d23f-4978-b05e-978e8390c571",
   "metadata": {},
   "outputs": [],
   "source": [
    "tags_to_match = ['adventure', 'fantasy', 'male', 'romance']"
   ]
  },
  {
   "cell_type": "code",
   "execution_count": 74,
   "id": "0d54cd87-f949-4528-97f1-1960b32b105d",
   "metadata": {},
   "outputs": [],
   "source": [
    "def find_matches(search_tags,anime_tags):\n",
    "    matches = 0\n",
    "    for tag in search_tags:\n",
    "        if tag in anime_tags:\n",
    "            matches += 1\n",
    "    match_ratio = matches*100/len(anime_tags)\n",
    "    return matches, match_ratio"
   ]
  },
  {
   "cell_type": "code",
   "execution_count": 75,
   "id": "a3a96905-ad42-4777-b727-fce4f6ac5037",
   "metadata": {},
   "outputs": [
    {
     "name": "stdout",
     "output_type": "stream",
     "text": [
      "{0: 0, 1: 3187, 2: 1666, 3: 368, 4: 0}\n",
      "5221\n"
     ]
    }
   ],
   "source": [
    "matching_animes = []\n",
    "match_count = {\n",
    "    0: 0, \n",
    "    1: 0,\n",
    "    2: 0,\n",
    "    3: 0,\n",
    "    4: 0,\n",
    "}\n",
    "\n",
    "for idx, row in df.iterrows():\n",
    "    if row['type'] != \"TV\":\n",
    "        continue\n",
    "    tags = row['tags']\n",
    "    if len(tags) == 0:\n",
    "        continue\n",
    "    matches, match_ratio = find_matches(tags_to_match, tags)\n",
    "    if matches == 0:\n",
    "        continue\n",
    "        \n",
    "    match_count[matches] += 1\n",
    "    anime = (row['title'], matches, match_ratio)\n",
    "    matching_animes.append(anime)\n",
    "print(match_count)\n",
    "print(len(matching_animes))"
   ]
  },
  {
   "cell_type": "code",
   "execution_count": 76,
   "id": "e203ab39-7287-44df-b953-2ed20a451101",
   "metadata": {},
   "outputs": [],
   "source": [
    "matching_df = pd.DataFrame(matching_animes, columns=['title', 'matches', 'ratio'])"
   ]
  },
  {
   "cell_type": "code",
   "execution_count": 77,
   "id": "6f693bdb-4459-4037-be54-06f8a313776f",
   "metadata": {
    "scrolled": true
   },
   "outputs": [
    {
     "data": {
      "text/html": [
       "<div>\n",
       "<style scoped>\n",
       "    .dataframe tbody tr th:only-of-type {\n",
       "        vertical-align: middle;\n",
       "    }\n",
       "\n",
       "    .dataframe tbody tr th {\n",
       "        vertical-align: top;\n",
       "    }\n",
       "\n",
       "    .dataframe thead th {\n",
       "        text-align: right;\n",
       "    }\n",
       "</style>\n",
       "<table border=\"1\" class=\"dataframe\">\n",
       "  <thead>\n",
       "    <tr style=\"text-align: right;\">\n",
       "      <th></th>\n",
       "      <th>title</th>\n",
       "      <th>matches</th>\n",
       "      <th>ratio</th>\n",
       "    </tr>\n",
       "  </thead>\n",
       "  <tbody>\n",
       "    <tr>\n",
       "      <th>3717</th>\n",
       "      <td>Saru Getchu: On Air 2nd</td>\n",
       "      <td>3</td>\n",
       "      <td>42.857143</td>\n",
       "    </tr>\n",
       "    <tr>\n",
       "      <th>4705</th>\n",
       "      <td>Wagamama☆Fairy Mirumo de Pon! Wonderful</td>\n",
       "      <td>3</td>\n",
       "      <td>42.857143</td>\n",
       "    </tr>\n",
       "    <tr>\n",
       "      <th>4749</th>\n",
       "      <td>Willy Fog 2: Part 1</td>\n",
       "      <td>3</td>\n",
       "      <td>37.500000</td>\n",
       "    </tr>\n",
       "    <tr>\n",
       "      <th>5112</th>\n",
       "      <td>Yuusha Party wo Tsuihou sareta Shiromadoushi, ...</td>\n",
       "      <td>3</td>\n",
       "      <td>37.500000</td>\n",
       "    </tr>\n",
       "    <tr>\n",
       "      <th>4704</th>\n",
       "      <td>Wagamama☆Fairy Mirumo de Pon! Golden</td>\n",
       "      <td>3</td>\n",
       "      <td>30.000000</td>\n",
       "    </tr>\n",
       "    <tr>\n",
       "      <th>...</th>\n",
       "      <td>...</td>\n",
       "      <td>...</td>\n",
       "      <td>...</td>\n",
       "    </tr>\n",
       "    <tr>\n",
       "      <th>2231</th>\n",
       "      <td>Kiseijuu: Sei no Kakuritsu</td>\n",
       "      <td>1</td>\n",
       "      <td>1.515152</td>\n",
       "    </tr>\n",
       "    <tr>\n",
       "      <th>2182</th>\n",
       "      <td>Kill la Kill</td>\n",
       "      <td>1</td>\n",
       "      <td>1.388889</td>\n",
       "    </tr>\n",
       "    <tr>\n",
       "      <th>1078</th>\n",
       "      <td>Elfen Lied</td>\n",
       "      <td>1</td>\n",
       "      <td>1.351351</td>\n",
       "    </tr>\n",
       "    <tr>\n",
       "      <th>1093</th>\n",
       "      <td>Ergo Proxy</td>\n",
       "      <td>1</td>\n",
       "      <td>1.351351</td>\n",
       "    </tr>\n",
       "    <tr>\n",
       "      <th>3981</th>\n",
       "      <td>Shinseiki Evangelion</td>\n",
       "      <td>1</td>\n",
       "      <td>1.162791</td>\n",
       "    </tr>\n",
       "  </tbody>\n",
       "</table>\n",
       "<p>5221 rows × 3 columns</p>\n",
       "</div>"
      ],
      "text/plain": [
       "                                                  title  matches      ratio\n",
       "3717                            Saru Getchu: On Air 2nd        3  42.857143\n",
       "4705            Wagamama☆Fairy Mirumo de Pon! Wonderful        3  42.857143\n",
       "4749                                Willy Fog 2: Part 1        3  37.500000\n",
       "5112  Yuusha Party wo Tsuihou sareta Shiromadoushi, ...        3  37.500000\n",
       "4704               Wagamama☆Fairy Mirumo de Pon! Golden        3  30.000000\n",
       "...                                                 ...      ...        ...\n",
       "2231                         Kiseijuu: Sei no Kakuritsu        1   1.515152\n",
       "2182                                       Kill la Kill        1   1.388889\n",
       "1078                                         Elfen Lied        1   1.351351\n",
       "1093                                         Ergo Proxy        1   1.351351\n",
       "3981                               Shinseiki Evangelion        1   1.162791\n",
       "\n",
       "[5221 rows x 3 columns]"
      ]
     },
     "execution_count": 77,
     "metadata": {},
     "output_type": "execute_result"
    }
   ],
   "source": [
    "matching_df.sort_values([\"matches\", \"ratio\"], ascending=[False, False])"
   ]
  }
 ],
 "metadata": {
  "kernelspec": {
   "display_name": "Python 3 (ipykernel)",
   "language": "python",
   "name": "python3"
  },
  "language_info": {
   "codemirror_mode": {
    "name": "ipython",
    "version": 3
   },
   "file_extension": ".py",
   "mimetype": "text/x-python",
   "name": "python",
   "nbconvert_exporter": "python",
   "pygments_lexer": "ipython3",
   "version": "3.13.1"
  }
 },
 "nbformat": 4,
 "nbformat_minor": 5
}
