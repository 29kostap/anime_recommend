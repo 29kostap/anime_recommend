{
 "cells": [
  {
   "cell_type": "markdown",
   "id": "39ffb41a-cb55-498f-9d91-0342fdef875c",
   "metadata": {},
   "source": [
    "# TODO\n",
    "- TF/IDF\n",
    "- get ratings\n",
    "- partial tags match (female harem matches harem)\n",
    "- get more data\n",
    "- iteractive fine tuning of the search (showing candiate tags)\n",
    "- store and remember (profile, liked animes in the past)\n",
    "- scrape 'sources' -> ratings\n",
    "- ai turn (scraped) summary to tags\n",
    "- age\n",
    "- additional criteria (episodes, seasons, etc)"
   ]
  },
  {
   "cell_type": "code",
   "execution_count": 1,
   "id": "0b48f4c1-e5aa-4ca8-9eec-6a081b952d5c",
   "metadata": {},
   "outputs": [],
   "source": [
    "import pandas as pd \n",
    "import json"
   ]
  },
  {
   "cell_type": "code",
   "execution_count": 2,
   "id": "59f86913-9160-4f16-9a87-1f8ed334681d",
   "metadata": {},
   "outputs": [],
   "source": [
    "with open(\"./anime-offline-database.json\", \"r\") as file:\n",
    "    jsondata = json.load(file)"
   ]
  },
  {
   "cell_type": "code",
   "execution_count": 17,
   "id": "34976ed3-a2dc-4a4b-9fe1-f27277a91936",
   "metadata": {},
   "outputs": [
    {
     "name": "stdout",
     "output_type": "stream",
     "text": [
      "{'sources': ['https://anidb.net/anime/10143', 'https://anilist.co/anime/102416', 'https://anime-planet.com/anime/chiaki-kuriyama-0', 'https://anisearch.com/anime/9010', 'https://kitsu.app/anime/8925', 'https://myanimelist.net/anime/20707', 'https://notify.moe/anime/Ff1bpKmmR'], 'title': '\"0\"', 'type': 'SPECIAL', 'episodes': 1, 'status': 'FINISHED', 'animeSeason': {'season': 'SUMMER', 'year': 2013}, 'picture': 'https://cdn.myanimelist.net/images/anime/12/81160.jpg', 'thumbnail': 'https://cdn.myanimelist.net/images/anime/12/81160t.jpg', 'duration': {'value': 240, 'unit': 'SECONDS'}, 'synonyms': ['\"Zero\"', '0 (Zero)', 'Chiaki Kuriyama - 0', 'Chiaki Kuriyama - Zero', 'Chiaki Kuriyama: \"0\"', 'Chiaki Kuriyama: 「0」', 'Kuriyama Chiaki - 0', '「0」', '栗山 千明「0」', '栗山千明 - 0'], 'relatedAnime': [], 'tags': ['drama', 'female protagonist', 'indefinite', 'music', 'present']}\n"
     ]
    }
   ],
   "source": [
    "items = jsondata['data']\n",
    "print(items[1])"
   ]
  },
  {
   "cell_type": "code",
   "execution_count": 4,
   "id": "c69a61c4-c2e4-4d9e-8bdf-481ded127b11",
   "metadata": {},
   "outputs": [],
   "source": [
    "rows = []\n",
    "for item in items:\n",
    "    tup = (\n",
    "    item['title'],\n",
    "    item['type'],\n",
    "    item['tags'],\n",
    "    item['episodes']\n",
    "        )\n",
    "    rows.append(tup)"
   ]
  },
  {
   "cell_type": "code",
   "execution_count": 5,
   "id": "e5dfe0fa-af28-494c-9321-167dd0e9fb43",
   "metadata": {},
   "outputs": [
    {
     "name": "stdout",
     "output_type": "stream",
     "text": [
      "34955\n"
     ]
    }
   ],
   "source": [
    "print(len(rows))"
   ]
  },
  {
   "cell_type": "code",
   "execution_count": 6,
   "id": "90074c9d-eccb-4d6f-bb61-754e5b43e90b",
   "metadata": {},
   "outputs": [],
   "source": [
    "df = pd.DataFrame(rows, columns=[\"title\", \"type\", \"tags\", \"episodes\"])"
   ]
  },
  {
   "cell_type": "code",
   "execution_count": 7,
   "id": "3197c11d-4dc3-43be-97e5-4a570e6cec3e",
   "metadata": {},
   "outputs": [
    {
     "data": {
      "text/html": [
       "<div>\n",
       "<style scoped>\n",
       "    .dataframe tbody tr th:only-of-type {\n",
       "        vertical-align: middle;\n",
       "    }\n",
       "\n",
       "    .dataframe tbody tr th {\n",
       "        vertical-align: top;\n",
       "    }\n",
       "\n",
       "    .dataframe thead th {\n",
       "        text-align: right;\n",
       "    }\n",
       "</style>\n",
       "<table border=\"1\" class=\"dataframe\">\n",
       "  <thead>\n",
       "    <tr style=\"text-align: right;\">\n",
       "      <th></th>\n",
       "      <th>title</th>\n",
       "      <th>type</th>\n",
       "      <th>tags</th>\n",
       "      <th>episodes</th>\n",
       "    </tr>\n",
       "  </thead>\n",
       "  <tbody>\n",
       "    <tr>\n",
       "      <th>0</th>\n",
       "      <td>!NVADE SHOW!</td>\n",
       "      <td>SPECIAL</td>\n",
       "      <td>[band, full cgi, music, primarily female cast,...</td>\n",
       "      <td>1</td>\n",
       "    </tr>\n",
       "    <tr>\n",
       "      <th>1</th>\n",
       "      <td>\"0\"</td>\n",
       "      <td>SPECIAL</td>\n",
       "      <td>[drama, female protagonist, indefinite, music,...</td>\n",
       "      <td>1</td>\n",
       "    </tr>\n",
       "    <tr>\n",
       "      <th>2</th>\n",
       "      <td>\"Aesop\" no Ohanashi yori: Ushi to Kaeru, Yokub...</td>\n",
       "      <td>MOVIE</td>\n",
       "      <td>[family friendly, fantasy, frogs, kids]</td>\n",
       "      <td>1</td>\n",
       "    </tr>\n",
       "    <tr>\n",
       "      <th>3</th>\n",
       "      <td>\"Ai\" wo Taberu</td>\n",
       "      <td>MOVIE</td>\n",
       "      <td>[drama]</td>\n",
       "      <td>1</td>\n",
       "    </tr>\n",
       "    <tr>\n",
       "      <th>4</th>\n",
       "      <td>\"Bungaku Shoujo\" Kyou no Oyatsu: Hatsukoi</td>\n",
       "      <td>OVA</td>\n",
       "      <td>[asia, based on a light novel, comedy, drama, ...</td>\n",
       "      <td>1</td>\n",
       "    </tr>\n",
       "    <tr>\n",
       "      <th>...</th>\n",
       "      <td>...</td>\n",
       "      <td>...</td>\n",
       "      <td>...</td>\n",
       "      <td>...</td>\n",
       "    </tr>\n",
       "    <tr>\n",
       "      <th>34950</th>\n",
       "      <td>▲MEW▲△MEW△CAKE</td>\n",
       "      <td>SPECIAL</td>\n",
       "      <td>[]</td>\n",
       "      <td>1</td>\n",
       "    </tr>\n",
       "    <tr>\n",
       "      <th>34951</th>\n",
       "      <td>◯</td>\n",
       "      <td>ONA</td>\n",
       "      <td>[abstract, angst, avant garde, black and white...</td>\n",
       "      <td>1</td>\n",
       "    </tr>\n",
       "    <tr>\n",
       "      <th>34952</th>\n",
       "      <td>「S.K.T(Swallow Knights Tales)」 Weptun Teureill...</td>\n",
       "      <td>SPECIAL</td>\n",
       "      <td>[action, comedy, fantasy]</td>\n",
       "      <td>1</td>\n",
       "    </tr>\n",
       "    <tr>\n",
       "      <th>34953</th>\n",
       "      <td>空の境界</td>\n",
       "      <td>TV</td>\n",
       "      <td>[action, mystery, romance, supernatural, suspe...</td>\n",
       "      <td>13</td>\n",
       "    </tr>\n",
       "    <tr>\n",
       "      <th>34954</th>\n",
       "      <td>맛 (Hot Sauce) (MINIMONSTER Remix)</td>\n",
       "      <td>SPECIAL</td>\n",
       "      <td>[music]</td>\n",
       "      <td>1</td>\n",
       "    </tr>\n",
       "  </tbody>\n",
       "</table>\n",
       "<p>34955 rows × 4 columns</p>\n",
       "</div>"
      ],
      "text/plain": [
       "                                                   title     type  \\\n",
       "0                                           !NVADE SHOW!  SPECIAL   \n",
       "1                                                    \"0\"  SPECIAL   \n",
       "2      \"Aesop\" no Ohanashi yori: Ushi to Kaeru, Yokub...    MOVIE   \n",
       "3                                         \"Ai\" wo Taberu    MOVIE   \n",
       "4              \"Bungaku Shoujo\" Kyou no Oyatsu: Hatsukoi      OVA   \n",
       "...                                                  ...      ...   \n",
       "34950                                     ▲MEW▲△MEW△CAKE  SPECIAL   \n",
       "34951                                                  ◯      ONA   \n",
       "34952  「S.K.T(Swallow Knights Tales)」 Weptun Teureill...  SPECIAL   \n",
       "34953                                               空の境界       TV   \n",
       "34954                  맛 (Hot Sauce) (MINIMONSTER Remix)  SPECIAL   \n",
       "\n",
       "                                                    tags  episodes  \n",
       "0      [band, full cgi, music, primarily female cast,...         1  \n",
       "1      [drama, female protagonist, indefinite, music,...         1  \n",
       "2                [family friendly, fantasy, frogs, kids]         1  \n",
       "3                                                [drama]         1  \n",
       "4      [asia, based on a light novel, comedy, drama, ...         1  \n",
       "...                                                  ...       ...  \n",
       "34950                                                 []         1  \n",
       "34951  [abstract, angst, avant garde, black and white...         1  \n",
       "34952                          [action, comedy, fantasy]         1  \n",
       "34953  [action, mystery, romance, supernatural, suspe...        13  \n",
       "34954                                            [music]         1  \n",
       "\n",
       "[34955 rows x 4 columns]"
      ]
     },
     "execution_count": 7,
     "metadata": {},
     "output_type": "execute_result"
    }
   ],
   "source": [
    "df"
   ]
  },
  {
   "cell_type": "code",
   "execution_count": 8,
   "id": "86465ced-961f-415d-813f-30af2037602c",
   "metadata": {},
   "outputs": [
    {
     "name": "stdout",
     "output_type": "stream",
     "text": [
      "tv shows 8880\n",
      "rows with tags 8818\n",
      "tags 1147\n"
     ]
    }
   ],
   "source": [
    "has_tags = 0\n",
    "tv_shows = 0\n",
    "all_tags = []\n",
    "for idx, row in df.iterrows():\n",
    "    if row['type'] != \"TV\":\n",
    "        continue\n",
    "    tv_shows += 1\n",
    "    tags = row['tags']\n",
    "    if len(tags) > 0:\n",
    "        has_tags += 1\n",
    "\n",
    "        for tag in tags:\n",
    "            if not tag in all_tags:\n",
    "                all_tags.append(tag)\n",
    "        \n",
    "print(\"tv shows\", tv_shows)\n",
    "print(\"rows with tags\", has_tags)\n",
    "print(\"tags\", len(all_tags))"
   ]
  },
  {
   "cell_type": "code",
   "execution_count": 9,
   "id": "5417a43f-82d0-4206-9219-85729018b47d",
   "metadata": {},
   "outputs": [
    {
     "name": "stdout",
     "output_type": "stream",
     "text": [
      "['acting', 'age regression', 'anti-hero', 'award winning', 'based on a manga', 'bowling', 'bullying', 'coming of age', 'daily life', 'dancing', 'denpa', 'detective', 'drama', 'ensemble cast', 'fake relationship', 'family life', 'female harem', 'female protagonist', 'filmmaking', 'genius']\n"
     ]
    }
   ],
   "source": [
    "print(all_tags[:20])"
   ]
  },
  {
   "cell_type": "raw",
   "id": "0444e82c-ab61-4de3-9991-72e29ea605f6",
   "metadata": {},
   "source": [
    "df.groupby(\"type\").count()"
   ]
  },
  {
   "cell_type": "code",
   "execution_count": 10,
   "id": "834246ea-caa3-4973-8f9a-a77ab8866884",
   "metadata": {},
   "outputs": [
    {
     "data": {
      "text/plain": [
       "np.float64(13.0160205979116)"
      ]
     },
     "execution_count": 10,
     "metadata": {},
     "output_type": "execute_result"
    }
   ],
   "source": [
    "df['episodes'].mean()"
   ]
  },
  {
   "cell_type": "code",
   "execution_count": 11,
   "id": "79c78bed-b384-4d57-9330-ce0958e3c2af",
   "metadata": {},
   "outputs": [
    {
     "data": {
      "text/plain": [
       "np.int64(3057)"
      ]
     },
     "execution_count": 11,
     "metadata": {},
     "output_type": "execute_result"
    }
   ],
   "source": [
    "df['episodes'].max()"
   ]
  },
  {
   "cell_type": "markdown",
   "id": "29619dc7-7b5c-48ce-94fe-23a7524e4a72",
   "metadata": {},
   "source": [
    "# find common tags"
   ]
  },
  {
   "cell_type": "code",
   "execution_count": 12,
   "id": "ba105689-d23f-4978-b05e-978e8390c571",
   "metadata": {},
   "outputs": [],
   "source": [
    "tags_to_match = ['adventure', 'fantasy', 'male', 'romance']"
   ]
  },
  {
   "cell_type": "code",
   "execution_count": 13,
   "id": "0d54cd87-f949-4528-97f1-1960b32b105d",
   "metadata": {},
   "outputs": [],
   "source": [
    "def find_matches(search_tags,anime_tags):\n",
    "    matches = 0\n",
    "    for tag in search_tags:\n",
    "        for anime_tag in anime_tags:\n",
    "            if tag == anime_tag:\n",
    "                matches += 1\n",
    "                continue\n",
    "\n",
    "            if tag in anime_tag:\n",
    "                matches += 0.5\n",
    "                continue\n",
    "                \n",
    "    match_ratio = matches*100/len(anime_tags)\n",
    "    return matches, match_ratio"
   ]
  },
  {
   "cell_type": "code",
   "execution_count": 14,
   "id": "a3a96905-ad42-4777-b727-fce4f6ac5037",
   "metadata": {},
   "outputs": [
    {
     "name": "stdout",
     "output_type": "stream",
     "text": [
      "6207\n"
     ]
    }
   ],
   "source": [
    "matching_animes = []\n",
    "\n",
    "for idx, row in df.iterrows():\n",
    "    if row['type'] != \"TV\":\n",
    "        continue\n",
    "    tags = row['tags']\n",
    "    if len(tags) == 0:\n",
    "        continue\n",
    "    matches, match_ratio = find_matches(tags_to_match, tags)\n",
    "    if matches == 0:\n",
    "        continue    \n",
    "    anime = (row['title'], matches, match_ratio)\n",
    "    matching_animes.append(anime)\n",
    "\n",
    "print(len(matching_animes))"
   ]
  },
  {
   "cell_type": "code",
   "execution_count": 15,
   "id": "e203ab39-7287-44df-b953-2ed20a451101",
   "metadata": {},
   "outputs": [],
   "source": [
    "matching_df = pd.DataFrame(matching_animes, columns=['title', 'matches', 'ratio'])"
   ]
  },
  {
   "cell_type": "code",
   "execution_count": 16,
   "id": "6f693bdb-4459-4037-be54-06f8a313776f",
   "metadata": {
    "scrolled": true
   },
   "outputs": [
    {
     "data": {
      "text/html": [
       "<div>\n",
       "<style scoped>\n",
       "    .dataframe tbody tr th:only-of-type {\n",
       "        vertical-align: middle;\n",
       "    }\n",
       "\n",
       "    .dataframe tbody tr th {\n",
       "        vertical-align: top;\n",
       "    }\n",
       "\n",
       "    .dataframe thead th {\n",
       "        text-align: right;\n",
       "    }\n",
       "</style>\n",
       "<table border=\"1\" class=\"dataframe\">\n",
       "  <thead>\n",
       "    <tr style=\"text-align: right;\">\n",
       "      <th></th>\n",
       "      <th>title</th>\n",
       "      <th>matches</th>\n",
       "      <th>ratio</th>\n",
       "    </tr>\n",
       "  </thead>\n",
       "  <tbody>\n",
       "    <tr>\n",
       "      <th>3297</th>\n",
       "      <td>Mato Seihei no Slave</td>\n",
       "      <td>6.5</td>\n",
       "      <td>13.829787</td>\n",
       "    </tr>\n",
       "    <tr>\n",
       "      <th>2912</th>\n",
       "      <td>Kyou kara Maou! 3rd Series</td>\n",
       "      <td>6.0</td>\n",
       "      <td>17.647059</td>\n",
       "    </tr>\n",
       "    <tr>\n",
       "      <th>1255</th>\n",
       "      <td>Dungeon ni Deai wo Motomeru no wa Machigatteir...</td>\n",
       "      <td>6.0</td>\n",
       "      <td>14.634146</td>\n",
       "    </tr>\n",
       "    <tr>\n",
       "      <th>1253</th>\n",
       "      <td>Dungeon ni Deai wo Motomeru no wa Machigatteir...</td>\n",
       "      <td>6.0</td>\n",
       "      <td>12.244898</td>\n",
       "    </tr>\n",
       "    <tr>\n",
       "      <th>5041</th>\n",
       "      <td>Sword Art Online II</td>\n",
       "      <td>6.0</td>\n",
       "      <td>10.714286</td>\n",
       "    </tr>\n",
       "    <tr>\n",
       "      <th>...</th>\n",
       "      <td>...</td>\n",
       "      <td>...</td>\n",
       "      <td>...</td>\n",
       "    </tr>\n",
       "    <tr>\n",
       "      <th>6022</th>\n",
       "      <td>Youkoso Jitsuryoku Shijou Shugi no Kyoushitsu ...</td>\n",
       "      <td>0.5</td>\n",
       "      <td>0.961538</td>\n",
       "    </tr>\n",
       "    <tr>\n",
       "      <th>2350</th>\n",
       "      <td>Joker Game</td>\n",
       "      <td>0.5</td>\n",
       "      <td>0.925926</td>\n",
       "    </tr>\n",
       "    <tr>\n",
       "      <th>608</th>\n",
       "      <td>Boku dake ga Inai Machi</td>\n",
       "      <td>0.5</td>\n",
       "      <td>0.909091</td>\n",
       "    </tr>\n",
       "    <tr>\n",
       "      <th>1036</th>\n",
       "      <td>Danganronpa: Kibou no Gakuen to Zetsubou no Ko...</td>\n",
       "      <td>0.5</td>\n",
       "      <td>0.862069</td>\n",
       "    </tr>\n",
       "    <tr>\n",
       "      <th>3793</th>\n",
       "      <td>Odd Taxi</td>\n",
       "      <td>0.5</td>\n",
       "      <td>0.819672</td>\n",
       "    </tr>\n",
       "  </tbody>\n",
       "</table>\n",
       "<p>6207 rows × 3 columns</p>\n",
       "</div>"
      ],
      "text/plain": [
       "                                                  title  matches      ratio\n",
       "3297                               Mato Seihei no Slave      6.5  13.829787\n",
       "2912                         Kyou kara Maou! 3rd Series      6.0  17.647059\n",
       "1255  Dungeon ni Deai wo Motomeru no wa Machigatteir...      6.0  14.634146\n",
       "1253  Dungeon ni Deai wo Motomeru no wa Machigatteir...      6.0  12.244898\n",
       "5041                                Sword Art Online II      6.0  10.714286\n",
       "...                                                 ...      ...        ...\n",
       "6022  Youkoso Jitsuryoku Shijou Shugi no Kyoushitsu ...      0.5   0.961538\n",
       "2350                                         Joker Game      0.5   0.925926\n",
       "608                             Boku dake ga Inai Machi      0.5   0.909091\n",
       "1036  Danganronpa: Kibou no Gakuen to Zetsubou no Ko...      0.5   0.862069\n",
       "3793                                           Odd Taxi      0.5   0.819672\n",
       "\n",
       "[6207 rows x 3 columns]"
      ]
     },
     "execution_count": 16,
     "metadata": {},
     "output_type": "execute_result"
    }
   ],
   "source": [
    "matching_df.sort_values([\"matches\", \"ratio\"], ascending=[False, False])"
   ]
  },
  {
   "cell_type": "code",
   "execution_count": null,
   "id": "2cef995e-a552-4d9d-93d5-2fc100aa0074",
   "metadata": {},
   "outputs": [],
   "source": []
  }
 ],
 "metadata": {
  "kernelspec": {
   "display_name": "Python 3 (ipykernel)",
   "language": "python",
   "name": "python3"
  },
  "language_info": {
   "codemirror_mode": {
    "name": "ipython",
    "version": 3
   },
   "file_extension": ".py",
   "mimetype": "text/x-python",
   "name": "python",
   "nbconvert_exporter": "python",
   "pygments_lexer": "ipython3",
   "version": "3.13.1"
  }
 },
 "nbformat": 4,
 "nbformat_minor": 5
}
