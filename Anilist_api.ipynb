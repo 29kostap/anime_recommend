{
 "cells": [
  {
   "cell_type": "code",
   "execution_count": 7,
   "id": "9de83e28-a3f8-4920-84d4-94afcfb43ff7",
   "metadata": {},
   "outputs": [
    {
     "name": "stdout",
     "output_type": "stream",
     "text": [
      "{'title': {'english': 'Attack on Titan'}, 'episodes': 25, 'status': 'FINISHED', 'description': 'Several hundred years ago, humans were nearly exterminated by titans. Titans are typically several stories tall, seem to have no intelligence, devour human beings and, worst of all, seem to do it for the pleasure rather than as a food source. A small percentage of humanity survived by walling themselves in a city protected by extremely high walls, even taller than the biggest of titans.<br><br>\\r\\nFlash forward to the present and the city has not seen a titan in over 100 years. Teenage boy Eren and his foster sister Mikasa witness something horrific as the city walls are destroyed by a colossal titan that appears out of thin air. As the smaller titans flood the city, the two kids watch in horror as their mother is eaten alive. Eren vows that he will murder every single titan and take revenge for all of mankind.<br><br>\\r\\n(Source: MangaHelpers) ', 'averageScore': 84}\n"
     ]
    }
   ],
   "source": [
    "import requests"
   ]
  },
  {
   "cell_type": "code",
   "execution_count": 15,
   "id": "36be2503-652c-48d1-a52e-cec23420fbb7",
   "metadata": {},
   "outputs": [],
   "source": [
    "# Define the GraphQL query\n",
    "query = \"\"\"\n",
    "query ($id: Int) {\n",
    "  Media(id: $id, type: ANIME) {\n",
    "    title {\n",
    "      english\n",
    "    }\n",
    "    episodes\n",
    "    status\n",
    "    description\n",
    "    averageScore\n",
    "  }\n",
    "}\n",
    "\"\"\"\n",
    "\n",
    "def getinfo(id): \n",
    "    # Define the variables (use the AniList ID of the anime)\n",
    "    variables = {\n",
    "        \"id\": id\n",
    "    }\n",
    "    \n",
    "    # Set the API endpoint\n",
    "    url = \"https://graphql.anilist.co\"\n",
    "    \n",
    "    # Send a POST request\n",
    "    response = requests.post(url, json={\"query\": query, \"variables\": variables})\n",
    "    \n",
    "    # Check for errors\n",
    "    if response.status_code == 200:\n",
    "        data = response.json()\n",
    "        #print(data[\"data\"][\"Media\"])  # Print the anime details\n",
    "    else:\n",
    "        print(f\"Error {response.status_code}: {response.text}\")\n",
    "        return\n",
    "    \n",
    "    \n",
    "    \n",
    "    return data[\"data\"][\"Media\"]\n"
   ]
  },
  {
   "cell_type": "code",
   "execution_count": 21,
   "id": "152a350c-6baa-45d5-8dca-e9f3d99203cb",
   "metadata": {},
   "outputs": [
    {
     "name": "stdout",
     "output_type": "stream",
     "text": [
      "Error 404: {\"errors\":[{\"message\":\"Not Found.\",\"status\":404,\"locations\":[{\"line\":3,\"column\":3}]}],\"data\":{\"Media\":null}}\n"
     ]
    }
   ],
   "source": []
  },
  {
   "cell_type": "code",
   "execution_count": null,
   "id": "b60d519f-486d-4c9a-a760-1b8dfc2fc034",
   "metadata": {},
   "outputs": [],
   "source": []
  }
 ],
 "metadata": {
  "kernelspec": {
   "display_name": "Python 3 (ipykernel)",
   "language": "python",
   "name": "python3"
  },
  "language_info": {
   "codemirror_mode": {
    "name": "ipython",
    "version": 3
   },
   "file_extension": ".py",
   "mimetype": "text/x-python",
   "name": "python",
   "nbconvert_exporter": "python",
   "pygments_lexer": "ipython3",
   "version": "3.13.1"
  }
 },
 "nbformat": 4,
 "nbformat_minor": 5
}
